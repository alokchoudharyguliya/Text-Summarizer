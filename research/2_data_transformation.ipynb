{
 "cells": [
  {
   "cell_type": "markdown",
   "id": "71464b8f",
   "metadata": {},
   "source": [
    "### Data Transformation"
   ]
  },
  {
   "cell_type": "code",
   "execution_count": 1,
   "id": "c88d4859",
   "metadata": {},
   "outputs": [
    {
     "data": {
      "text/plain": [
       "'c:\\\\Users\\\\alok4\\\\Desktop\\\\Text-Summarizer\\\\research'"
      ]
     },
     "execution_count": 1,
     "metadata": {},
     "output_type": "execute_result"
    }
   ],
   "source": [
    "import os\n",
    "%pwd"
   ]
  },
  {
   "cell_type": "code",
   "execution_count": 2,
   "id": "00313bb1",
   "metadata": {},
   "outputs": [],
   "source": [
    "os.chdir('..')"
   ]
  },
  {
   "cell_type": "code",
   "execution_count": 3,
   "id": "8a35c344",
   "metadata": {},
   "outputs": [
    {
     "data": {
      "text/plain": [
       "'c:\\\\Users\\\\alok4\\\\Desktop\\\\Text-Summarizer'"
      ]
     },
     "execution_count": 3,
     "metadata": {},
     "output_type": "execute_result"
    }
   ],
   "source": [
    "%pwd"
   ]
  },
  {
   "cell_type": "code",
   "execution_count": 17,
   "id": "2bd8370d",
   "metadata": {},
   "outputs": [],
   "source": [
    "from dataclasses import dataclass\n",
    "from pathlib import Path\n",
    "@dataclass\n",
    "class DataTransformationConfig:\n",
    "    root_dir: Path\n",
    "    data_path: Path\n",
    "    tokenizer_name: Path"
   ]
  },
  {
   "cell_type": "code",
   "execution_count": 18,
   "id": "28e12a8f",
   "metadata": {},
   "outputs": [],
   "source": [
    "from src.textSummarizer.constants import *\n",
    "from src.textSummarizer.utils.common import read_yaml, create_directories"
   ]
  },
  {
   "cell_type": "code",
   "execution_count": 19,
   "id": "9d6209a2",
   "metadata": {},
   "outputs": [],
   "source": [
    "class ConfigurationManager:\n",
    "    def __init__(self,\n",
    "                 config_path=CONFIG_FILE_PATH,\n",
    "                 params_path=PARAMS_FILE_PATH):\n",
    "        self.config=read_yaml(config_path)\n",
    "        self.params=read_yaml(params_path)\n",
    "\n",
    "        create_directories([self.config.artifact_root],verbose=True)\n",
    "\n",
    "    def get_data_transformation_config(self)->DataTransformationConfig:\n",
    "        config=self.config.data_transformation\n",
    "        create_directories([config.root_dir],verbose=True)\n",
    "        data_transformation_config=DataTransformationConfig(root_dir=config.root_dir,data_path=config.data_path,tokenizer_name=config.tokenizer_name)\n",
    "        return data_transformation_config"
   ]
  },
  {
   "cell_type": "code",
   "execution_count": 20,
   "id": "08eef870",
   "metadata": {},
   "outputs": [],
   "source": [
    "import os\n",
    "from src.textSummarizer.logging import logging\n",
    "from transformers import AutoTokenizer\n",
    "from datasets import load_from_disk"
   ]
  },
  {
   "cell_type": "markdown",
   "id": "116a4dda",
   "metadata": {},
   "source": [
    "### Data Transformation Component"
   ]
  },
  {
   "cell_type": "code",
   "execution_count": 21,
   "id": "6f52a4d0",
   "metadata": {},
   "outputs": [],
   "source": [
    "class DataTransformation:\n",
    "    def __init__(self,config:DataTransformationConfig):\n",
    "        self.config=config\n",
    "        self.tokenizer=AutoTokenizer.from_pretrained(config.tokenizer_name)\n",
    "\n",
    "    def convert_examples_to_features(self,example_batch):\n",
    "        input_encodings=self.tokenizer(example_batch['dialogue'],max_length=1024,truncation=True)\n",
    "        with self.tokenizer.as_target_tokenizer():\n",
    "            target_encodings=self.tokenizer(example_batch['summary'],max_length=128,truncation=True)\n",
    "        return {\n",
    "            'input_ids':input_encodings['input_ids'],\n",
    "            'attention_mask':input_encodings['attention_mask'],\n",
    "            'labels':target_encodings['input_ids']\n",
    "        }\n",
    "    def convert(self):\n",
    "        data_samsum=load_from_disk(self.config.data_path)\n",
    "        data_samsum_pt=data_samsum.map(self.convert_examples_to_features,batched=True)\n",
    "        data_samsum_pt.save_to_disk(os.path.join(self.config.root_dir,\"samsum_datset\"))"
   ]
  },
  {
   "cell_type": "code",
   "execution_count": 23,
   "id": "0f0e6696",
   "metadata": {},
   "outputs": [
    {
     "name": "stdout",
     "output_type": "stream",
     "text": [
      "[2025-08-28 23:59:24,167:INFO:common:Yaml file:config\\config.yaml loaded successfully]\n",
      "[2025-08-28 23:59:24,169:INFO:common:Yaml file:params.yaml loaded successfully]\n",
      "[2025-08-28 23:59:24,170:INFO:common:Created Directory at: artifacts]\n",
      "[2025-08-28 23:59:24,170:INFO:common:Created Directory at: artifacts/data_transformation]\n"
     ]
    },
    {
     "name": "stderr",
     "output_type": "stream",
     "text": [
      "Map: 100%|██████████| 14732/14732 [00:01<00:00, 9754.18 examples/s] \n",
      "Map: 100%|██████████| 819/819 [00:00<00:00, 8896.02 examples/s]\n",
      "Map: 100%|██████████| 818/818 [00:00<00:00, 9641.89 examples/s]\n",
      "Saving the dataset (1/1 shards): 100%|██████████| 14732/14732 [00:00<00:00, 686492.31 examples/s]\n",
      "Saving the dataset (1/1 shards): 100%|██████████| 819/819 [00:00<00:00, 159848.07 examples/s]\n",
      "Saving the dataset (1/1 shards): 100%|██████████| 818/818 [00:00<00:00, 159697.48 examples/s]\n"
     ]
    }
   ],
   "source": [
    "config=ConfigurationManager()\n",
    "data_transformation_config=config.get_data_transformation_config()\n",
    "data_transformation=DataTransformation(config=data_transformation_config)\n",
    "data_transformation.convert()\n"
   ]
  },
  {
   "cell_type": "code",
   "execution_count": null,
   "id": "a57c2b8b",
   "metadata": {},
   "outputs": [],
   "source": []
  }
 ],
 "metadata": {
  "kernelspec": {
   "display_name": "text-summarizer (3.10.18)",
   "language": "python",
   "name": "python3"
  },
  "language_info": {
   "codemirror_mode": {
    "name": "ipython",
    "version": 3
   },
   "file_extension": ".py",
   "mimetype": "text/x-python",
   "name": "python",
   "nbconvert_exporter": "python",
   "pygments_lexer": "ipython3",
   "version": "3.10.18"
  }
 },
 "nbformat": 4,
 "nbformat_minor": 5
}
